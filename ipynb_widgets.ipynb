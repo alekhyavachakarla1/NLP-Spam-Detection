{
 "cells": [
  {
   "cell_type": "code",
   "execution_count": 1,
   "id": "binding-glance",
   "metadata": {},
   "outputs": [],
   "source": [
    "import warnings\n",
    "warnings.filterwarnings('ignore')\n",
    "\n",
    "import ipywidgets as widgets\n",
    "from IPython.display import display, clear_output"
   ]
  },
  {
   "cell_type": "code",
   "execution_count": 2,
   "id": "informal-powell",
   "metadata": {},
   "outputs": [],
   "source": [
    "# !jupyter nbextension enable --py widgetsnbextension --sys-prefix\n",
    "# !jupyter serverextension enable voila --sys-prefix"
   ]
  },
  {
   "cell_type": "code",
   "execution_count": 3,
   "id": "reflected-speaker",
   "metadata": {},
   "outputs": [],
   "source": [
    "# Image Widget\n",
    "\n",
    "# file = open(\"grandma.jpg\", \"rb\")\n",
    "# image = file.read()\n",
    "\n",
    "# image_headline = widgets.Image(\n",
    "#                     value=image,\n",
    "#                     format='jpg',\n",
    "#                     width='300'\n",
    "#                 )\n",
    "\n",
    "label_headline = widgets.Label(\n",
    "                    value='Message',\n",
    "                    style={'description_width': 'initial'}\n",
    "                )\n",
    "\n",
    "vbox_headline = widgets.VBox([label_headline])"
   ]
  },
  {
   "cell_type": "code",
   "execution_count": 47,
   "id": "reverse-belfast",
   "metadata": {},
   "outputs": [],
   "source": [
    "# grandson/granddaughter\n",
    "\n",
    "grand = widgets.ToggleButtons(\n",
    "            options=['grandson', 'granddaughter']\n",
    "        )"
   ]
  },
  {
   "cell_type": "code",
   "execution_count": 5,
   "id": "bearing-lover",
   "metadata": {},
   "outputs": [],
   "source": [
    "# name\n",
    "\n",
    "name = widgets.Text(placeholder='Enter your message')"
   ]
  },
  {
   "cell_type": "code",
   "execution_count": 6,
   "id": "headed-bloom",
   "metadata": {},
   "outputs": [],
   "source": [
    "# date = widgets.DatePicker(description='Pick a Date')"
   ]
  },
  {
   "cell_type": "code",
   "execution_count": 7,
   "id": "naval-night",
   "metadata": {},
   "outputs": [],
   "source": [
    "# number of friends\n",
    "\n",
    "# friends = widgets.IntSlider(\n",
    "#             value=3, # default value\n",
    "#             min=0, \n",
    "#             max=10,\n",
    "#             step=1,\n",
    "#             style={'description_width': 'initial', 'handle_color': '#16a085'} \n",
    "#         )\n",
    "# text_0"
   ]
  },
  {
   "cell_type": "code",
   "execution_count": 8,
   "id": "thorough-royal",
   "metadata": {},
   "outputs": [],
   "source": [
    "# button send\n",
    "\n",
    "button_send = widgets.Button(\n",
    "                description='Submit',\n",
    "                tooltip='Send',\n",
    "                style={'description_width': 'initial'}\n",
    "            )\n",
    "\n",
    "output = widgets.Output()\n",
    "\n",
    "def on_button_clicked(event):\n",
    "    with output:\n",
    "        clear_output()\n",
    "        result = predict()\n",
    "        print(result)\n",
    "        if result == 1:\n",
    "            \n",
    "            print(\"Text entered above is a spam text\")\n",
    "        elif result == 0:\n",
    "            print(\"Text entered above is a ham text\")\n",
    "            \n",
    "            \n",
    "        \n",
    "        \n",
    "#         print(\"Sent message: \")\n",
    "#         print(f\"Dear Grandma! This is your favourite {grand.value}, {name.value}.\")\n",
    "#         print(f\"I would love to come over on {date.value} for dinner, if that's okay for you!\")\n",
    "#         print(f\"Also, if you don't mind, I'll bring along {friends.value} hungry ghosts for your delicious food!\")\n",
    "        \n",
    "\n",
    "button_send.on_click(on_button_clicked)\n",
    "\n",
    "vbox_result = widgets.VBox([button_send, output])"
   ]
  },
  {
   "cell_type": "code",
   "execution_count": 9,
   "id": "guilty-ending",
   "metadata": {},
   "outputs": [],
   "source": [
    "# stacked right hand side\n",
    "\n",
    "# text_0 = widgets.HTML(value=\"<h1>Dear Grandma!</h1>\")\n",
    "# text_1 = widgets.HTML(value=\"<h2>This is your favourite</h2>\")\n",
    "# text_2= widgets.HTML(value=\"<h2>I would love to come over on </h2>\")\n",
    "# text_3= widgets.HTML(value=\"<h2>for dinner, if that's okay for you!</h2>\")\n",
    "# text_4= widgets.HTML(value=\"<h2>Also, if you don't mind, I'll bring along </h2>\")\n",
    "# text_5= widgets.HTML(value=\"<h2>hungry ghosts for dinner, if that's okay for you!</h2>\")\n",
    "\n",
    "vbox_text = widgets.VBox([ name, vbox_result])"
   ]
  },
  {
   "cell_type": "code",
   "execution_count": 10,
   "id": "earlier-saturday",
   "metadata": {},
   "outputs": [],
   "source": [
    "page = widgets.HBox([vbox_headline, vbox_text])\n",
    "display(page)"
   ]
  },
  {
   "cell_type": "code",
   "execution_count": 11,
   "id": "according-supervisor",
   "metadata": {},
   "outputs": [],
   "source": [
    "import os\n",
    "import numpy as np \n",
    "import pandas as pd \n",
    "from sklearn.preprocessing import LabelEncoder\n",
    "import nltk\n",
    "import re\n",
    "from nltk.stem import PorterStemmer\n",
    "from nltk.corpus import stopwords\n",
    "from sklearn.model_selection import train_test_split\n",
    "from sklearn.feature_extraction.text import CountVectorizer\n",
    "from sklearn.naive_bayes import MultinomialNB\n",
    "from sklearn.metrics import accuracy_score\n",
    "from sklearn.metrics import confusion_matrix\n",
    "import matplotlib.pyplot as plt\n",
    "import seaborn as sns\n",
    "from nltk.stem import WordNetLemmatizer\n",
    "import itertools\n",
    "from wordcloud import WordCloud\n",
    "from sklearn.ensemble import RandomForestClassifier\n",
    "from sklearn import tree\n",
    "from sklearn.ensemble import AdaBoostClassifier\n",
    "from sklearn.neighbors import KNeighborsClassifier\n",
    "from sklearn.svm import SVC\n",
    "# from keras.models import Sequential,Model\n",
    "# from keras.layers import Dense,LSTM, SpatialDropout1D, Embedding\n",
    "# from keras.utils.np_utils import to_categorical\n"
   ]
  },
  {
   "cell_type": "code",
   "execution_count": 12,
   "id": "0d8be24c",
   "metadata": {},
   "outputs": [],
   "source": [
    "import zipfile as zf\n",
    "\n",
    "files = zf.ZipFile(\"input-20220414T185429Z-001.zip\",'r')\n",
    "files.extractall()\n",
    "files.close()"
   ]
  },
  {
   "cell_type": "code",
   "execution_count": 13,
   "id": "f6f97f02",
   "metadata": {},
   "outputs": [],
   "source": [
    "import os\n",
    "import pandas as pd"
   ]
  },
  {
   "cell_type": "code",
   "execution_count": 14,
   "id": "b362819f",
   "metadata": {},
   "outputs": [],
   "source": [
    "emails = []\n",
    "labels = []\n",
    "path = 'input/ham-and-spam-dataset/hamnspam/'\n",
    "\n",
    "for label in ['ham','spam']:\n",
    "    files = os.listdir(path + label)\n",
    "    for file in files:\n",
    "        f = open((path + label+'/' + file), 'r', encoding = 'latin-1')\n",
    "        b = f.read()\n",
    "        emails.append(b)\n",
    "        labels.append(label)"
   ]
  },
  {
   "cell_type": "code",
   "execution_count": 15,
   "id": "de6f17e4",
   "metadata": {},
   "outputs": [
    {
     "data": {
      "text/html": [
       "<div>\n",
       "<style scoped>\n",
       "    .dataframe tbody tr th:only-of-type {\n",
       "        vertical-align: middle;\n",
       "    }\n",
       "\n",
       "    .dataframe tbody tr th {\n",
       "        vertical-align: top;\n",
       "    }\n",
       "\n",
       "    .dataframe thead th {\n",
       "        text-align: right;\n",
       "    }\n",
       "</style>\n",
       "<table border=\"1\" class=\"dataframe\">\n",
       "  <thead>\n",
       "    <tr style=\"text-align: right;\">\n",
       "      <th></th>\n",
       "      <th>emails</th>\n",
       "      <th>labels</th>\n",
       "    </tr>\n",
       "  </thead>\n",
       "  <tbody>\n",
       "    <tr>\n",
       "      <th>0</th>\n",
       "      <td>From rssfeeds@jmason.org  Mon Sep 30 13:43:46 ...</td>\n",
       "      <td>ham</td>\n",
       "    </tr>\n",
       "    <tr>\n",
       "      <th>1</th>\n",
       "      <td>From fork-admin@xent.com  Tue Sep  3 14:24:41 ...</td>\n",
       "      <td>ham</td>\n",
       "    </tr>\n",
       "    <tr>\n",
       "      <th>2</th>\n",
       "      <td>From exmh-users-admin@redhat.com  Wed Sep 11 1...</td>\n",
       "      <td>ham</td>\n",
       "    </tr>\n",
       "    <tr>\n",
       "      <th>3</th>\n",
       "      <td>From fork-admin@xent.com  Mon Sep  2 16:22:12 ...</td>\n",
       "      <td>ham</td>\n",
       "    </tr>\n",
       "    <tr>\n",
       "      <th>4</th>\n",
       "      <td>From rssfeeds@jmason.org  Fri Sep 27 10:40:59 ...</td>\n",
       "      <td>ham</td>\n",
       "    </tr>\n",
       "    <tr>\n",
       "      <th>...</th>\n",
       "      <td>...</td>\n",
       "      <td>...</td>\n",
       "    </tr>\n",
       "    <tr>\n",
       "      <th>3045</th>\n",
       "      <td>From sitescooper-talk-admin@lists.sourceforge....</td>\n",
       "      <td>spam</td>\n",
       "    </tr>\n",
       "    <tr>\n",
       "      <th>3046</th>\n",
       "      <td>From q10bvq9lvq1@prodigy.net  Sun Sep 15 12:21...</td>\n",
       "      <td>spam</td>\n",
       "    </tr>\n",
       "    <tr>\n",
       "      <th>3047</th>\n",
       "      <td>From vbj101521@caramail.com  Tue Aug 27 02:35:...</td>\n",
       "      <td>spam</td>\n",
       "    </tr>\n",
       "    <tr>\n",
       "      <th>3048</th>\n",
       "      <td>From biz2biz2446@Flashmail.com  Mon Oct  7 22:...</td>\n",
       "      <td>spam</td>\n",
       "    </tr>\n",
       "    <tr>\n",
       "      <th>3049</th>\n",
       "      <td>From safety33o@l11.newnamedns.com  Fri Aug 23 ...</td>\n",
       "      <td>spam</td>\n",
       "    </tr>\n",
       "  </tbody>\n",
       "</table>\n",
       "<p>3050 rows × 2 columns</p>\n",
       "</div>"
      ],
      "text/plain": [
       "                                                 emails labels\n",
       "0     From rssfeeds@jmason.org  Mon Sep 30 13:43:46 ...    ham\n",
       "1     From fork-admin@xent.com  Tue Sep  3 14:24:41 ...    ham\n",
       "2     From exmh-users-admin@redhat.com  Wed Sep 11 1...    ham\n",
       "3     From fork-admin@xent.com  Mon Sep  2 16:22:12 ...    ham\n",
       "4     From rssfeeds@jmason.org  Fri Sep 27 10:40:59 ...    ham\n",
       "...                                                 ...    ...\n",
       "3045  From sitescooper-talk-admin@lists.sourceforge....   spam\n",
       "3046  From q10bvq9lvq1@prodigy.net  Sun Sep 15 12:21...   spam\n",
       "3047  From vbj101521@caramail.com  Tue Aug 27 02:35:...   spam\n",
       "3048  From biz2biz2446@Flashmail.com  Mon Oct  7 22:...   spam\n",
       "3049  From safety33o@l11.newnamedns.com  Fri Aug 23 ...   spam\n",
       "\n",
       "[3050 rows x 2 columns]"
      ]
     },
     "execution_count": 15,
     "metadata": {},
     "output_type": "execute_result"
    }
   ],
   "source": [
    "df = pd.DataFrame({'emails': emails, 'labels': labels})\n",
    "# df"
   ]
  },
  {
   "cell_type": "code",
   "execution_count": 50,
   "id": "70eb64d6",
   "metadata": {},
   "outputs": [],
   "source": [
    "import matplotlib.pyplot as plt\n",
    "\n",
    "# plt.bar('Spam', len(os.listdir('input/ham-and-spam-dataset/hamnspam/spam/')), color='r')\n",
    "# plt.bar('Not-Spam',len(os.listdir('input/ham-and-spam-dataset/hamnspam/ham/')), color='b')\n",
    "# plt.show()"
   ]
  },
  {
   "cell_type": "code",
   "execution_count": 49,
   "id": "e40a0046",
   "metadata": {},
   "outputs": [],
   "source": [
    "from wordcloud import WordCloud\n",
    "\n",
    "for label, cmap in zip([\"ham\", \"spam\"], [\"winter\", \"autumn\"]):\n",
    "    text = df.query(\"labels == @label\")[\"emails\"].str.cat(sep=\" \")\n",
    "#     plt.figure(figsize=(10, 6))\n",
    "#     wc = WordCloud(width=1000, height=600, background_color=\"#f8f8f8\", colormap=cmap)\n",
    "#     wc.generate_from_text(text)\n",
    "#     plt.imshow(wc)\n",
    "#     plt.axis(\"off\")\n",
    "#     plt.title(f\"Words Commonly Used in ${label}$ Messages\", size=20)\n",
    "#     plt.show()"
   ]
  },
  {
   "cell_type": "code",
   "execution_count": 18,
   "id": "3b12624a",
   "metadata": {},
   "outputs": [],
   "source": [
    "import seaborn as sns\n",
    "\n",
    "df['length'] = df['emails'].str.len()\n",
    "# plt.figure(figsize=(12.8,6))\n",
    "# sns.distplot(df['length']).set_title('email length distribution')"
   ]
  },
  {
   "cell_type": "code",
   "execution_count": 19,
   "id": "a455f1c1",
   "metadata": {},
   "outputs": [],
   "source": [
    "# df['length'].describe()\n"
   ]
  },
  {
   "cell_type": "code",
   "execution_count": 20,
   "id": "7087de8a",
   "metadata": {},
   "outputs": [],
   "source": [
    "quantile_95 = df['length'].quantile(0.95)\n",
    "df_95 = df[df['length'] < quantile_95]"
   ]
  },
  {
   "cell_type": "code",
   "execution_count": 21,
   "id": "91ae8b30",
   "metadata": {},
   "outputs": [],
   "source": [
    "# plt.figure(figsize=(12.8,6))\n",
    "# sns.distplot(df_95['length']).set_title('email length distribution');"
   ]
  },
  {
   "cell_type": "code",
   "execution_count": 22,
   "id": "02d1f52e",
   "metadata": {},
   "outputs": [],
   "source": [
    "# plt.figure(figsize=(12.8,6))\n",
    "# sns.boxplot(data=df, x='labels', y='length', width=.5);"
   ]
  },
  {
   "cell_type": "code",
   "execution_count": 23,
   "id": "3b4a337e",
   "metadata": {},
   "outputs": [],
   "source": [
    "# plt.figure(figsize=(12.8,6))\n",
    "# sns.boxplot(data=df_95, x='labels', y='length');"
   ]
  },
  {
   "cell_type": "code",
   "execution_count": 24,
   "id": "30324a03",
   "metadata": {},
   "outputs": [],
   "source": [
    "# print(df.isnull().sum())\n"
   ]
  },
  {
   "cell_type": "code",
   "execution_count": 25,
   "id": "c241eb65",
   "metadata": {},
   "outputs": [],
   "source": [
    "df['emails'] = df['emails'].apply(lambda x:x.lower())\n"
   ]
  },
  {
   "cell_type": "code",
   "execution_count": 26,
   "id": "55f6cf39",
   "metadata": {},
   "outputs": [],
   "source": [
    "punctuation_signs = list(\"?:!.,;\")\n",
    "df['emails'] = df['emails']\n",
    "\n",
    "for punct_sign in punctuation_signs:   \n",
    "    df['emails'] = df['emails'].str.replace(punct_sign, '')"
   ]
  },
  {
   "cell_type": "code",
   "execution_count": 27,
   "id": "251ccc83",
   "metadata": {},
   "outputs": [],
   "source": [
    "for i in range(len(df)):\n",
    "    long_words=[]\n",
    "    for j in df['emails'][i].split():\n",
    "        if len(j)>=3:                  \n",
    "            long_words.append(j)\n",
    "    df['emails'][i]=\" \".join(long_words)"
   ]
  },
  {
   "cell_type": "code",
   "execution_count": 28,
   "id": "b911b964",
   "metadata": {},
   "outputs": [],
   "source": [
    "df['emails'] = df['emails'].apply(lambda x: x.replace('\\n', ' '))\n",
    "df['emails'] = df['emails'].apply(lambda x: x.replace('\\t', ' '))"
   ]
  },
  {
   "cell_type": "code",
   "execution_count": 29,
   "id": "df2c800c",
   "metadata": {},
   "outputs": [],
   "source": [
    "df['emails'] = df['emails'].str.replace(\"    \", \" \")\n"
   ]
  },
  {
   "cell_type": "code",
   "execution_count": 30,
   "id": "8238bb22",
   "metadata": {},
   "outputs": [],
   "source": [
    "df['emails'] = df['emails'].str.replace('\"', '')\n"
   ]
  },
  {
   "cell_type": "code",
   "execution_count": 31,
   "id": "a403b8dd",
   "metadata": {},
   "outputs": [],
   "source": [
    "df['emails'] = df['emails'].str.replace(\"'s\", \"\")\n"
   ]
  },
  {
   "cell_type": "code",
   "execution_count": 32,
   "id": "fb02cfb1",
   "metadata": {},
   "outputs": [],
   "source": [
    "# import nltk\n",
    "# nltk.download('omw-1.4')\n",
    "# nltk.download('punkt')\n",
    "# nltk.download('wordnet')"
   ]
  },
  {
   "cell_type": "code",
   "execution_count": 33,
   "id": "96be93ce",
   "metadata": {},
   "outputs": [],
   "source": [
    "from nltk.stem import PorterStemmer\n",
    "from nltk.stem import WordNetLemmatizer\n",
    "wordnet_lemmatizer = WordNetLemmatizer()\n"
   ]
  },
  {
   "cell_type": "code",
   "execution_count": 34,
   "id": "b6b23cf2",
   "metadata": {},
   "outputs": [],
   "source": [
    "nrows = len(df)\n",
    "lemmatized_text_list = []\n",
    "for row in range(0, nrows):\n",
    "    \n",
    "    # Create an empty list containing lemmatized words\n",
    "    lemmatized_list = []\n",
    "    \n",
    "    # Save the text and its words into an object\n",
    "    text = df.loc[row]['emails']\n",
    "    text_words = str(text).split(\" \")\n",
    "\n",
    "    # Iterate through every word to lemmatize\n",
    "    for word in text_words:\n",
    "        lemmatized_list.append(wordnet_lemmatizer.lemmatize(word, pos=\"v\"))\n",
    "        \n",
    "    # Join the list\n",
    "    lemmatized_text = \" \".join(lemmatized_list)\n",
    "    \n",
    "    # Append to the list containing the texts\n",
    "    lemmatized_text_list.append(lemmatized_text)\n"
   ]
  },
  {
   "cell_type": "code",
   "execution_count": 35,
   "id": "be75a7d6",
   "metadata": {},
   "outputs": [],
   "source": [
    "df['emails'] = lemmatized_text_list\n"
   ]
  },
  {
   "cell_type": "code",
   "execution_count": 36,
   "id": "100853fc",
   "metadata": {},
   "outputs": [],
   "source": [
    "# nltk.download('stopwords')\n",
    "# from nltk.corpus import stopwords\n",
    "\n"
   ]
  },
  {
   "cell_type": "code",
   "execution_count": 37,
   "id": "f08e420e",
   "metadata": {},
   "outputs": [],
   "source": [
    "stop_words = list(stopwords.words('english'))\n"
   ]
  },
  {
   "cell_type": "code",
   "execution_count": 38,
   "id": "802462d7",
   "metadata": {},
   "outputs": [],
   "source": [
    "for stop_word in stop_words:\n",
    "    regex_stopword = r\"\\b\" + stop_word + r\"\\b\"\n",
    "    df['emails'] = df['emails'].str.replace(regex_stopword, '')\n"
   ]
  },
  {
   "cell_type": "code",
   "execution_count": 39,
   "id": "753935f9",
   "metadata": {},
   "outputs": [],
   "source": [
    "from sklearn.preprocessing import LabelEncoder\n",
    "encoder = LabelEncoder()\n",
    "df['labels'] = encoder.fit_transform(df['labels'])"
   ]
  },
  {
   "cell_type": "code",
   "execution_count": 40,
   "id": "90a620a7",
   "metadata": {},
   "outputs": [],
   "source": [
    "from sklearn.feature_extraction.text import CountVectorizer\n",
    "cv = CountVectorizer(max_features = 2500)\n",
    "X = cv.fit_transform(df['emails']).toarray()\n",
    "y = df['labels']"
   ]
  },
  {
   "cell_type": "code",
   "execution_count": 41,
   "id": "40054520",
   "metadata": {},
   "outputs": [],
   "source": [
    "from sklearn.model_selection import train_test_split\n",
    "\n",
    "X_train, X_test, y_train, y_test = train_test_split(X, y, test_size = 0.3, stratify=y, random_state = 42)\n"
   ]
  },
  {
   "cell_type": "code",
   "execution_count": 42,
   "id": "62d56fa8",
   "metadata": {},
   "outputs": [],
   "source": [
    "from sklearn.metrics import confusion_matrix\n",
    "\n",
    "def plot_confusion_matrix(cm, classes,\n",
    "                          normalize=False,\n",
    "                          title='Confusion matrix',\n",
    "                              cmap=plt.cm.Blues):\n",
    "\n",
    "    plt.imshow(cm, interpolation='nearest', cmap=cmap)\n",
    "    plt.title(title)\n",
    "    plt.colorbar()\n",
    "    tick_marks = np.arange(len(classes))\n",
    "    plt.xticks(tick_marks, classes, rotation=45)\n",
    "    plt.yticks(tick_marks, classes)\n",
    "\n",
    "    if normalize:\n",
    "        cm = cm.astype('float') / cm.sum(axis=1)[:, np.newaxis]\n",
    "\n",
    "    thresh = cm.max() / 2.\n",
    "    for i, j in itertools.product(range(cm.shape[0]), range(cm.shape[1])):\n",
    "        plt.text(j, i, cm[i, j],\n",
    "                 horizontalalignment=\"center\",\n",
    "                 color=\"white\" if cm[i, j] > thresh else \"black\")\n",
    "\n",
    "    plt.tight_layout()\n",
    "    plt.ylabel('True label')\n",
    "    plt.xlabel('Predicted label')\n"
   ]
  },
  {
   "cell_type": "code",
   "execution_count": 43,
   "id": "bebe50d5",
   "metadata": {},
   "outputs": [],
   "source": [
    "clf = MultinomialNB()\n",
    "clf.fit(X_train, y_train)\n",
    "y_pred = clf.predict(X_test)\n",
    "accuracy = accuracy_score(y_test, y_pred)\n",
    "# print(\"accuracy is: \",accuracy)\n",
    "# CM = confusion_matrix(y_test, y_pred)\n",
    "# plot_confusion_matrix(CM, classes = range(2))\n"
   ]
  },
  {
   "cell_type": "code",
   "execution_count": 44,
   "id": "251a0ebf",
   "metadata": {},
   "outputs": [],
   "source": [
    "def predict():\n",
    "    \n",
    "    res = 1\n",
    "    data = []\n",
    "    data.append(name.value)\n",
    "    vect = cv.transform(data).toarray()\n",
    "    my_prediction = clf.predict(vect)\n",
    "    if my_prediction[0]==1:\n",
    "        res = 1\n",
    "        return res   \n",
    "    elif my_prediction[0]==0:\n",
    "        res = 0\n",
    "        return res"
   ]
  },
  {
   "cell_type": "code",
   "execution_count": 53,
   "id": "2c78cec9",
   "metadata": {},
   "outputs": [
    {
     "name": "stdout",
     "output_type": "stream",
     "text": [
      "['grandson']\n"
     ]
    }
   ],
   "source": [
    "data = '[\"'+grand.value+'\"]'\n",
    "data = []\n",
    "data.append(name.value)\n",
    "# print(data)"
   ]
  },
  {
   "cell_type": "code",
   "execution_count": 54,
   "id": "776dd3bd",
   "metadata": {},
   "outputs": [
    {
     "name": "stdout",
     "output_type": "stream",
     "text": [
      "grandson\n"
     ]
    }
   ],
   "source": [
    "# print(data[0])"
   ]
  },
  {
   "cell_type": "code",
   "execution_count": 59,
   "id": "5237a818",
   "metadata": {},
   "outputs": [
    {
     "name": "stdout",
     "output_type": "stream",
     "text": [
      "0\n"
     ]
    }
   ],
   "source": [
    "# data = str(name.value)\n",
    "# print(data)\n",
    "vect = cv.transform(data).toarray()\n",
    "my_prediction = clf.predict(vect)\n",
    "if my_prediction[0]==1:\n",
    "        res = 1\n",
    "#         print(res)\n",
    "          \n",
    "elif my_prediction[0]==0:\n",
    "        res = 0\n",
    "#         print(res)\n",
    "       "
   ]
  },
  {
   "cell_type": "code",
   "execution_count": null,
   "id": "76f16cc8",
   "metadata": {},
   "outputs": [],
   "source": []
  }
 ],
 "metadata": {
  "kernelspec": {
   "display_name": "Python 3 (ipykernel)",
   "language": "python",
   "name": "python3"
  },
  "language_info": {
   "codemirror_mode": {
    "name": "ipython",
    "version": 3
   },
   "file_extension": ".py",
   "mimetype": "text/x-python",
   "name": "python",
   "nbconvert_exporter": "python",
   "pygments_lexer": "ipython3",
   "version": "3.9.7"
  }
 },
 "nbformat": 4,
 "nbformat_minor": 5
}
